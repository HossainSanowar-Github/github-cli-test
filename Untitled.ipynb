{
 "cells": [
  {
   "cell_type": "code",
   "execution_count": 1,
   "id": "52919b7b-0295-4613-9627-42622bef038e",
   "metadata": {},
   "outputs": [],
   "source": [
    "import numpy as np\n",
    "import pandas as pd\n",
    "import matplotlib.pyplot as plt\n",
    "%matplotlib inline\n",
    "import cv2"
   ]
  },
  {
   "cell_type": "code",
   "execution_count": 2,
   "id": "c3d059f6-6e2c-4054-9827-ccdf756613a3",
   "metadata": {},
   "outputs": [],
   "source": [
    "from tensorflow.keras.layers import Dense, Conv2D, MaxPooling2D, Flatten, Dropout\n",
    "from tensorflow.keras.models import Sequential\n",
    "from tensorflow.keras.utils import to_categorical"
   ]
  },
  {
   "cell_type": "code",
   "execution_count": 3,
   "id": "647c29e4-e91a-48cb-940d-6f418fa55de2",
   "metadata": {},
   "outputs": [],
   "source": [
    "from sklearn.model_selection import train_test_split\n",
    "import os"
   ]
  },
  {
   "cell_type": "code",
   "execution_count": 4,
   "id": "790e3f5e-9bba-4ad7-887d-7a57f3fa6ac0",
   "metadata": {},
   "outputs": [],
   "source": [
    "np.random.seed(1)"
   ]
  },
  {
   "cell_type": "code",
   "execution_count": 5,
   "id": "3c854193-3177-4d06-93b8-d43877e0176a",
   "metadata": {},
   "outputs": [],
   "source": [
    "train_images = []\n",
    "train_labels = []\n",
    "shape = (200, 200)\n",
    "\n",
    "train_datasets_path = \"datasets/train_zip/train/\"\n",
    "\n",
    "for filename in os.listdir(\"datasets/train_zip/train/\"):\n",
    "    if filename.split('.')[1] =='jpg':\n",
    "        img = cv2.imread(os.path.join(train_datasets_path, filename))\n",
    "        train_labels.append(filename.split('_')[0])\n",
    "        img = cv2.resize(img,shape)\n",
    "        train_images.append(img)\n",
    "        \n",
    "        \n",
    "train_labels = pd.get_dummies(train_labels).values\n",
    "train_images = np.array(train_images)"
   ]
  },
  {
   "cell_type": "code",
   "execution_count": 6,
   "id": "ad87069e-7154-4230-8f20-d375e1bf7537",
   "metadata": {},
   "outputs": [],
   "source": [
    "x_train, x_test, y_train, y_test = train_test_split(train_images, train_labels, random_state=1)"
   ]
  },
  {
   "cell_type": "code",
   "execution_count": 7,
   "id": "eb044923-cf65-4487-a5d8-487d0775322c",
   "metadata": {},
   "outputs": [],
   "source": [
    "test_images = []\n",
    "test_labels = []\n",
    "shape = (200, 200)\n",
    "\n",
    "test_datasets_path = \"datasets/test_zip/test/\"\n",
    "\n",
    "for filename in os.listdir(\"datasets/test_zip/test/\"):\n",
    "    if filename.split('.')[1] =='jpg':\n",
    "        img = cv2.imread(os.path.join(test_datasets_path, filename))\n",
    "        test_labels.append(filename.split('_')[0])\n",
    "        img = cv2.resize(img,shape)\n",
    "        test_images.append(img)\n",
    "        \n",
    "        \n",
    "test_images = np.array(test_images)"
   ]
  },
  {
   "cell_type": "code",
   "execution_count": null,
   "id": "effd78f3-f611-429d-b23c-2735f3fcc9f4",
   "metadata": {},
   "outputs": [],
   "source": []
  },
  {
   "cell_type": "markdown",
   "id": "aec498d5-eb6a-4d53-8457-a6e396017374",
   "metadata": {},
   "source": [
    "# Models"
   ]
  },
  {
   "cell_type": "code",
   "execution_count": 8,
   "id": "acb8fa45-a321-4597-bf81-0c0378367fce",
   "metadata": {},
   "outputs": [],
   "source": [
    "model = Sequential()\n",
    "# 1st / Input Layer\n",
    "model.add(Conv2D(kernel_size = (3, 3), filters = 32, activation = 'tanh', input_shape = (200, 200, 3)))\n",
    "\n",
    "\n",
    "# 1st Hidden Layer\n",
    "model.add(Conv2D(filters = 30, kernel_size = (3, 3), activation = 'tanh'))\n",
    "model.add(MaxPooling2D((2, 2)))\n",
    "\n",
    "# 2nd Hidden Layer\n",
    "model.add(Conv2D(filters = 30, kernel_size = (3, 3), activation = 'tanh'))\n",
    "model.add(MaxPooling2D((2, 2)))\n",
    "\n",
    "\n",
    "model.add(Conv2D(filters = 30, kernel_size = (3, 3), activation = 'tanh'))\n",
    "model.add(Flatten())\n",
    "\n",
    "\n",
    "model.add(Dense(20, activation = 'relu'))\n",
    "model.add(Dense(15, activation = 'relu'))\n",
    "model.add(Dense(4, activation = 'softmax'))\n"
   ]
  },
  {
   "cell_type": "code",
   "execution_count": 9,
   "id": "4700efd5-b972-4862-97d8-12601c0a536f",
   "metadata": {},
   "outputs": [],
   "source": [
    "model.compile(optimizer = 'adam',\n",
    "              loss = 'categorical_crossentropy',\n",
    "             metrics = ['acc'])"
   ]
  },
  {
   "cell_type": "code",
   "execution_count": 10,
   "id": "14706973-edc6-4ed0-b05b-bbc844908d78",
   "metadata": {},
   "outputs": [
    {
     "name": "stdout",
     "output_type": "stream",
     "text": [
      "Model: \"sequential\"\n",
      "_________________________________________________________________\n",
      " Layer (type)                Output Shape              Param #   \n",
      "=================================================================\n",
      " conv2d (Conv2D)             (None, 198, 198, 32)      896       \n",
      "                                                                 \n",
      " conv2d_1 (Conv2D)           (None, 196, 196, 30)      8670      \n",
      "                                                                 \n",
      " max_pooling2d (MaxPooling2D  (None, 98, 98, 30)       0         \n",
      " )                                                               \n",
      "                                                                 \n",
      " conv2d_2 (Conv2D)           (None, 96, 96, 30)        8130      \n",
      "                                                                 \n",
      " max_pooling2d_1 (MaxPooling  (None, 48, 48, 30)       0         \n",
      " 2D)                                                             \n",
      "                                                                 \n",
      " conv2d_3 (Conv2D)           (None, 46, 46, 30)        8130      \n",
      "                                                                 \n",
      " flatten (Flatten)           (None, 63480)             0         \n",
      "                                                                 \n",
      " dense (Dense)               (None, 20)                1269620   \n",
      "                                                                 \n",
      " dense_1 (Dense)             (None, 15)                315       \n",
      "                                                                 \n",
      " dense_2 (Dense)             (None, 4)                 64        \n",
      "                                                                 \n",
      "=================================================================\n",
      "Total params: 1,295,825\n",
      "Trainable params: 1,295,825\n",
      "Non-trainable params: 0\n",
      "_________________________________________________________________\n"
     ]
    }
   ],
   "source": [
    "model.summary()"
   ]
  },
  {
   "cell_type": "code",
   "execution_count": 19,
   "id": "a13664ae-ff82-49e3-a4f1-588219a143c2",
   "metadata": {},
   "outputs": [
    {
     "name": "stdout",
     "output_type": "stream",
     "text": [
      "Epoch 1/5\n",
      "4/4 [==============================] - 5s 1s/step - loss: 0.8906 - acc: 0.5333 - val_loss: 0.8726 - val_acc: 0.6000\n",
      "Epoch 2/5\n",
      "4/4 [==============================] - 5s 1s/step - loss: 0.8676 - acc: 0.5833 - val_loss: 0.8641 - val_acc: 0.5833\n",
      "Epoch 3/5\n",
      "4/4 [==============================] - 5s 1s/step - loss: 0.8541 - acc: 0.5889 - val_loss: 0.9357 - val_acc: 0.5833\n",
      "Epoch 4/5\n",
      "4/4 [==============================] - 5s 1s/step - loss: 0.8883 - acc: 0.5833 - val_loss: 0.9987 - val_acc: 0.6167\n",
      "Epoch 5/5\n",
      "4/4 [==============================] - 5s 1s/step - loss: 0.9119 - acc: 0.6167 - val_loss: 0.9211 - val_acc: 0.6333\n"
     ]
    }
   ],
   "source": [
    "model_data  = model.fit(x_train, \n",
    "                        y_train,\n",
    "                       epochs=5,\n",
    "                       batch_size = 50,\n",
    "                       validation_data=(x_test, y_test))"
   ]
  },
  {
   "cell_type": "code",
   "execution_count": 20,
   "id": "82c26099-6eb7-4e72-90fc-8ce87334d847",
   "metadata": {},
   "outputs": [
    {
     "data": {
      "image/png": "[encoded data removed]",
      "text/plain": [
       "<Figure size 432x288 with 1 Axes>"
      ]
     },
     "metadata": {
      "needs_background": "light"
     },
     "output_type": "display_data"
    }
   ],
   "source": [
    "plt.plot(model_data.history['acc'])\n",
    "plt.plot(model_data.history['val_acc'])\n",
    "plt.title(\"Model Accuracy\")\n",
    "plt.xlabel(\"accuracy\")\n",
    "plt.ylabel('epochs')\n",
    "plt.tight_layout()\n",
    "plt.legend(['train', 'test'], loc = 'upper left')\n",
    "plt.show()"
   ]
  },
  {
   "cell_type": "code",
   "execution_count": 21,
   "id": "fd386bea-251d-4bb9-8251-cd728493427f",
   "metadata": {},
   "outputs": [
    {
     "data": {
      "image/png": "[encoded data removed]",
      "text/plain": [
       "<Figure size 432x288 with 1 Axes>"
      ]
     },
     "metadata": {
      "needs_background": "light"
     },
     "output_type": "display_data"
    }
   ],
   "source": [
    "plt.plot(model_data.history['loss'])\n",
    "plt.plot(model_data.history['val_loss'])\n",
    "plt.title(\"Model Loss\")\n",
    "plt.xlabel(\"Loss\")\n",
    "plt.ylabel('epochs')\n",
    "plt.tight_layout()\n",
    "plt.legend(['train', 'test'], loc = 'upper left')\n",
    "plt.show()"
   ]
  },
  {
   "cell_type": "code",
   "execution_count": 22,
   "id": "5b033b20-4948-4c47-99a7-5f9016c35ccd",
   "metadata": {},
   "outputs": [
    {
     "name": "stdout",
     "output_type": "stream",
     "text": [
      "2/2 [==============================] - 0s 125ms/step - loss: 0.9211 - acc: 0.6333\n"
     ]
    }
   ],
   "source": [
    "model_evaluate = model.evaluate(x_test, y_test)"
   ]
  },
  {
   "cell_type": "code",
   "execution_count": 23,
   "id": "d9a1b5f9-87a1-4a48-9c84-5e8fca00e4f3",
   "metadata": {},
   "outputs": [
    {
     "name": "stdout",
     "output_type": "stream",
     "text": [
      "[0.9210823178291321, 0.6333333253860474]\n"
     ]
    }
   ],
   "source": [
    "print(model_evaluate)"
   ]
  },
  {
   "cell_type": "code",
   "execution_count": 24,
   "id": "c9445de5-8fe5-434f-b3f5-a53369fe8a0f",
   "metadata": {},
   "outputs": [
    {
     "name": "stdout",
     "output_type": "stream",
     "text": [
      "Actual values names: \t ['apple']\n",
      "Pridicted Values names: \t apple\n"
     ]
    }
   ],
   "source": [
    "image_name = test_images[0:1]\n",
    "label_names = test_labels[0:1]\n",
    "\n",
    "predicted = model.predict(np.array(image_name))\n",
    "output = {0: 'apple', \n",
    "         1: \"banana\",\n",
    "         2: 'mixed',\n",
    "         3: 'orange'}\n",
    "\n",
    "\n",
    "print(\"Actual values names: \\t\", label_names)\n",
    "print(\"Pridicted Values names: \\t\", output[np.argmax(predicted)])"
   ]
  },
  {
   "cell_type": "code",
   "execution_count": null,
   "id": "8a89f8ee-ac48-4ac9-9959-c56bac25487a",
   "metadata": {},
   "outputs": [],
   "source": []
  }
 ],
 "metadata": {
  "kernelspec": {
   "display_name": "Python 3 (ipykernel)",
   "language": "python",
   "name": "python3"
  },
  "language_info": {
   "codemirror_mode": {
    "name": "ipython",
    "version": 3
   },
   "file_extension": ".py",
   "mimetype": "text/x-python",
   "name": "python",
   "nbconvert_exporter": "python",
   "pygments_lexer": "ipython3",
   "version": "3.9.7"
  }
 },
 "nbformat": 4,
 "nbformat_minor": 5
}
